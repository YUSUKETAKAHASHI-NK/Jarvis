{
 "cells": [
  {
   "cell_type": "markdown",
   "metadata": {
    "slideshow": {
     "slide_type": "notes"
    }
   },
   "source": [
    "# Tensorflow 2.0 Template Training Code"
   ]
  },
  {
   "cell_type": "markdown",
   "metadata": {},
   "source": [
    "## 概要\n",
    "* このプログラムは、MNISTの画像分類ができるようにすることを目的としています。\n",
    "    * MNIST:0~9の手書き文字画像データセット(超有名)\n",
    "    * 画像分類：画像に写っているオブジェクトが何か推測するタスク\n",
    "        * 画像関係のタスクだと他には、物体検出、画像生成、キャプション生成なんてものが有名\n",
    "* なるべくわかりやすくコメントしたつもりです。\n",
    "    * わからないところあれば、Teamsで聞いてください。"
   ]
  },
  {
   "cell_type": "markdown",
   "metadata": {},
   "source": [
    "## ライブラリのインポート"
   ]
  },
  {
   "cell_type": "code",
   "execution_count": 1,
   "metadata": {},
   "outputs": [],
   "source": [
    "import os\n",
    "import sys\n",
    "import numpy as np\n",
    "import pandas as pd\n",
    "from tqdm import tqdm\n",
    "import tensorflow as tf\n",
    "from tensorflow.keras.models import Model\n",
    "from tensorflow.keras.layers import Conv2D, Dense, Flatten, MaxPooling2D\n",
    "from sklearn.utils import shuffle\n",
    "from model.lenet import LeNet\n",
    "\n",
    "from config import Config\n",
    "from model.saver import Saver\n",
    "from dataset.entity import Entity\n",
    "from dataset.generator import Generator"
   ]
  },
  {
   "cell_type": "markdown",
   "metadata": {},
   "source": [
    "## configの読み込み\n",
    "* Config Classは~/work/template/config.pyで定義してあります。\n",
    "* パスの定義とかをこんな感じでconfigでまとめてあげると綺麗になります。\n",
    "* 乱数の種はセット推奨です。"
   ]
  },
  {
   "cell_type": "code",
   "execution_count": 2,
   "metadata": {},
   "outputs": [
    {
     "name": "stdout",
     "output_type": "stream",
     "text": [
      "/home/jovyan/work/_checkpoint/template is not found. so, created.\n",
      "/home/jovyan/work/_log/template/train is not found. so, created.\n",
      "/home/jovyan/work/_log/template/valid is not found. so, created.\n"
     ]
    }
   ],
   "source": [
    "config = Config()\n",
    "\n",
    "np.random.seed(config.seed)\n",
    "tf.random.set_seed(config.seed)"
   ]
  },
  {
   "cell_type": "markdown",
   "metadata": {},
   "source": [
    "## Dataset読み込み\n",
    "* オリジナルデータセットへの応用も考慮し、あえてローカルのMNISTデータセットを使う遠回しなコードにしてます。\n",
    "* GeneratorはEpoch毎のミニバッチ生成をするクラスです。"
   ]
  },
  {
   "cell_type": "code",
   "execution_count": 3,
   "metadata": {},
   "outputs": [],
   "source": [
    "'''学習データ'''\n",
    "train_df = pd.read_csv(config.dataset.train_csv_path, header=None)\n",
    "train_np = train_df.values\n",
    "train_data = [Entity(i) for i in train_np]\n",
    "train_gen = Generator(train_data, config.model.batch_size, shuffle=True, random_state=config.seed)\n",
    "\n",
    "'''検証データ'''\n",
    "valid_df = pd.read_csv(config.dataset.valid_csv_path, header=None)\n",
    "valid_np = valid_df.values\n",
    "valid_data = [Entity(i) for i in valid_np]\n",
    "valid_gen = Generator(valid_data, config.model.batch_size, shuffle=True, random_state=config.seed)"
   ]
  },
  {
   "cell_type": "markdown",
   "metadata": {},
   "source": [
    "## モデル構築"
   ]
  },
  {
   "cell_type": "code",
   "execution_count": 4,
   "metadata": {},
   "outputs": [],
   "source": [
    "model = LeNet()"
   ]
  },
  {
   "cell_type": "markdown",
   "metadata": {},
   "source": [
    "## 学習時のチェックポイント設定"
   ]
  },
  {
   "cell_type": "code",
   "execution_count": 5,
   "metadata": {},
   "outputs": [
    {
     "name": "stdout",
     "output_type": "stream",
     "text": [
      "init from scratch!\n"
     ]
    }
   ],
   "source": [
    "saver = Saver()\n",
    "checkpoint = tf.train.Checkpoint(step=tf.Variable(1), model=model)\n",
    "manager = tf.train.CheckpointManager(checkpoint, \n",
    "                                     directory=config.model.checkpoint_dir,\n",
    "                                     max_to_keep=5,\n",
    "                                     checkpoint_name=\"chkp\")\n",
    "checkpoint.restore(manager.latest_checkpoint)\n",
    "\n",
    "if manager.latest_checkpoint:\n",
    "    saver.old_loss = model.valid_loss.result()\n",
    "    print(\"restored!\")\n",
    "else:\n",
    "    print(\"init from scratch!\")"
   ]
  },
  {
   "cell_type": "markdown",
   "metadata": {},
   "source": [
    "## TensorBoard設定"
   ]
  },
  {
   "cell_type": "code",
   "execution_count": 6,
   "metadata": {},
   "outputs": [],
   "source": [
    "train_summary_writer = tf.summary.create_file_writer(config.tfboard.train_log_dir)\n",
    "valid_summary_writer = tf.summary.create_file_writer(config.tfboard.valid_log_dir)"
   ]
  },
  {
   "cell_type": "markdown",
   "metadata": {},
   "source": [
    "## 学習"
   ]
  },
  {
   "cell_type": "code",
   "execution_count": 7,
   "metadata": {},
   "outputs": [
    {
     "name": "stderr",
     "output_type": "stream",
     "text": [
      "  0%|          | 0/938 [00:00<?, ?it/s]"
     ]
    },
    {
     "name": "stdout",
     "output_type": "stream",
     "text": [
      "Epoch:1\n"
     ]
    },
    {
     "name": "stderr",
     "output_type": "stream",
     "text": [
      "100%|██████████| 938/938 [00:08<00:00, 109.39it/s]\n",
      "  1%|▏         | 12/938 [00:00<00:07, 119.90it/s]"
     ]
    },
    {
     "name": "stdout",
     "output_type": "stream",
     "text": [
      "Train Loss:0.2491, Validation Loss:0.0877\n",
      "Train Acc:0.9265, Validation Acc:0.9724\n",
      "init saver loss.\n",
      "Epoch:2\n"
     ]
    },
    {
     "name": "stderr",
     "output_type": "stream",
     "text": [
      "100%|██████████| 938/938 [00:07<00:00, 124.24it/s]\n",
      "  1%|▏         | 13/938 [00:00<00:07, 123.10it/s]"
     ]
    },
    {
     "name": "stdout",
     "output_type": "stream",
     "text": [
      "Train Loss:0.0775, Validation Loss:0.0513\n",
      "Train Acc:0.9757, Validation Acc:0.9840\n",
      "model was saved!0.0877 -> 0.0513\n",
      "Epoch:3\n"
     ]
    },
    {
     "name": "stderr",
     "output_type": "stream",
     "text": [
      "100%|██████████| 938/938 [00:07<00:00, 124.76it/s]\n",
      "  1%|▏         | 13/938 [00:00<00:07, 125.98it/s]"
     ]
    },
    {
     "name": "stdout",
     "output_type": "stream",
     "text": [
      "Train Loss:0.0545, Validation Loss:0.0463\n",
      "Train Acc:0.9827, Validation Acc:0.9846\n",
      "model was saved!0.0513 -> 0.0463\n",
      "Epoch:4\n"
     ]
    },
    {
     "name": "stderr",
     "output_type": "stream",
     "text": [
      "100%|██████████| 938/938 [00:07<00:00, 123.35it/s]\n",
      "  1%|▏         | 13/938 [00:00<00:07, 122.35it/s]"
     ]
    },
    {
     "name": "stdout",
     "output_type": "stream",
     "text": [
      "Train Loss:0.0436, Validation Loss:0.0395\n",
      "Train Acc:0.9859, Validation Acc:0.9872\n",
      "model was saved!0.0463 -> 0.0395\n",
      "Epoch:5\n"
     ]
    },
    {
     "name": "stderr",
     "output_type": "stream",
     "text": [
      "100%|██████████| 938/938 [00:07<00:00, 124.53it/s]\n",
      "  1%|▏         | 13/938 [00:00<00:07, 122.71it/s]"
     ]
    },
    {
     "name": "stdout",
     "output_type": "stream",
     "text": [
      "Train Loss:0.0351, Validation Loss:0.0449\n",
      "Train Acc:0.9884, Validation Acc:0.9859\n",
      "pass. Best Validation loss:0.0395\n",
      "Epoch:6\n"
     ]
    },
    {
     "name": "stderr",
     "output_type": "stream",
     "text": [
      "100%|██████████| 938/938 [00:07<00:00, 124.05it/s]\n",
      "  1%|▏         | 13/938 [00:00<00:07, 121.87it/s]"
     ]
    },
    {
     "name": "stdout",
     "output_type": "stream",
     "text": [
      "Train Loss:0.0294, Validation Loss:0.0451\n",
      "Train Acc:0.9905, Validation Acc:0.9864\n",
      "pass. Best Validation loss:0.0395\n",
      "Epoch:7\n"
     ]
    },
    {
     "name": "stderr",
     "output_type": "stream",
     "text": [
      "100%|██████████| 938/938 [00:07<00:00, 125.75it/s]\n",
      "  1%|▏         | 13/938 [00:00<00:07, 126.89it/s]"
     ]
    },
    {
     "name": "stdout",
     "output_type": "stream",
     "text": [
      "Train Loss:0.0253, Validation Loss:0.0388\n",
      "Train Acc:0.9917, Validation Acc:0.9897\n",
      "model was saved!0.0395 -> 0.0388\n",
      "Epoch:8\n"
     ]
    },
    {
     "name": "stderr",
     "output_type": "stream",
     "text": [
      "100%|██████████| 938/938 [00:07<00:00, 125.13it/s]\n",
      "  1%|▏         | 13/938 [00:00<00:07, 127.14it/s]"
     ]
    },
    {
     "name": "stdout",
     "output_type": "stream",
     "text": [
      "Train Loss:0.0224, Validation Loss:0.0342\n",
      "Train Acc:0.9926, Validation Acc:0.9895\n",
      "model was saved!0.0388 -> 0.0342\n",
      "Epoch:9\n"
     ]
    },
    {
     "name": "stderr",
     "output_type": "stream",
     "text": [
      "100%|██████████| 938/938 [00:07<00:00, 124.74it/s]\n"
     ]
    },
    {
     "name": "stdout",
     "output_type": "stream",
     "text": [
      "Train Loss:0.0194, Validation Loss:0.0423\n",
      "Train Acc:0.9935, Validation Acc:0.9878\n",
      "pass. Best Validation loss:0.0342\n"
     ]
    }
   ],
   "source": [
    "for epoch in range(int(checkpoint.step), config.model.max_epoch):\n",
    "    # 学習用データで学習\n",
    "    print(\"Epoch:{}\".format(epoch))\n",
    "    for (x, y) in tqdm(train_gen):\n",
    "        model.train_step(x, y)\n",
    "        \n",
    "    with train_summary_writer.as_default():\n",
    "        tf.summary.scalar('loss', model.train_loss.result(), step=epoch)\n",
    "        \n",
    "    # 検証用データ\n",
    "    for (x, y) in valid_gen:\n",
    "        model.valid_step(x, y)\n",
    "    with valid_summary_writer.as_default():\n",
    "        tf.summary.scalar('loss', model.valid_loss.result(), step=epoch)\n",
    "    \n",
    "    print('Train Loss:{:.4f}, Validation Loss:{:.4f}'.format(model.train_loss.result(), model.valid_loss.result()))\n",
    "    print('Train Acc:{:.4f}, Validation Acc:{:.4f}'.format(model.train_acc.result(), model.valid_acc.result()))\n",
    "    checkpoint.step.assign_add(1)\n",
    "    print(saver.save_model_good_valloss(model, config, manager, epoch))\n",
    "\n",
    "    model.train_loss.reset_states()\n",
    "    model.valid_loss.reset_states()\n",
    "    model.train_acc.reset_states()\n",
    "    model.valid_acc.reset_states()"
   ]
  },
  {
   "cell_type": "code",
   "execution_count": 8,
   "metadata": {},
   "outputs": [
    {
     "name": "stdout",
     "output_type": "stream",
     "text": [
      "TRAINING 完了！ お疲れ様！\n"
     ]
    }
   ],
   "source": [
    "print('TRAINING 完了！ お疲れ様！')"
   ]
  },
  {
   "cell_type": "code",
   "execution_count": null,
   "metadata": {},
   "outputs": [],
   "source": []
  }
 ],
 "metadata": {
  "kernelspec": {
   "display_name": "Python 3",
   "language": "python",
   "name": "python3"
  },
  "language_info": {
   "codemirror_mode": {
    "name": "ipython",
    "version": 3
   },
   "file_extension": ".py",
   "mimetype": "text/x-python",
   "name": "python",
   "nbconvert_exporter": "python",
   "pygments_lexer": "ipython3",
   "version": "3.7.3"
  }
 },
 "nbformat": 4,
 "nbformat_minor": 4
}
