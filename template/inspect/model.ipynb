{
 "cells": [
  {
   "cell_type": "markdown",
   "metadata": {},
   "source": [
    "# 検証データのモデルPlot"
   ]
  },
  {
   "cell_type": "markdown",
   "metadata": {},
   "source": [
    "## ライブラリのインポート"
   ]
  },
  {
   "cell_type": "code",
   "execution_count": 1,
   "metadata": {},
   "outputs": [],
   "source": [
    "import os\n",
    "import sys\n",
    "sys.path.append('..') \n",
    "import numpy as np\n",
    "import pandas as pd\n",
    "from tqdm import tqdm\n",
    "import tensorflow as tf\n",
    "from tensorflow.keras.models import Model\n",
    "from tensorflow.keras.layers import Conv2D, Dense, Flatten, MaxPooling2D\n",
    "from sklearn.utils import shuffle\n",
    "from model.lenet import LeNet\n",
    "\n",
    "from config import Config\n",
    "from model.saver import Saver\n",
    "from dataset.entity import Entity\n",
    "from dataset.generator import Generator\n",
    "from utility.visualize import display_images"
   ]
  },
  {
   "cell_type": "markdown",
   "metadata": {},
   "source": [
    "## configの読み込み\n",
    "* Config Classは~/work/template/config.pyで定義してあります。\n",
    "* パスの定義とかをこんな感じでconfigでまとめてあげると綺麗になります。\n",
    "* 乱数の種はセット推奨です。"
   ]
  },
  {
   "cell_type": "code",
   "execution_count": 2,
   "metadata": {},
   "outputs": [],
   "source": [
    "config = Config()\n",
    "\n",
    "np.random.seed(config.seed)\n",
    "tf.random.set_seed(config.seed)"
   ]
  },
  {
   "cell_type": "markdown",
   "metadata": {},
   "source": [
    "## Dataset読み込み\n",
    "* オリジナルデータセットへの応用も考慮し、あえてローカルのMNISTデータセットを使う遠回しなコードにしてます。\n",
    "* GeneratorはEpoch毎のミニバッチ生成をするクラスです。"
   ]
  },
  {
   "cell_type": "code",
   "execution_count": 3,
   "metadata": {},
   "outputs": [],
   "source": [
    "'''検証データ'''\n",
    "valid_df = pd.read_csv(config.dataset.valid_csv_path, header=None)\n",
    "valid_np = valid_df.values\n",
    "valid_data = [Entity(i) for i in valid_np]"
   ]
  },
  {
   "cell_type": "markdown",
   "metadata": {},
   "source": [
    "## モデル構築"
   ]
  },
  {
   "cell_type": "code",
   "execution_count": 4,
   "metadata": {},
   "outputs": [],
   "source": [
    "model = LeNet()"
   ]
  },
  {
   "cell_type": "markdown",
   "metadata": {},
   "source": [
    "## チェックポイント読み込み"
   ]
  },
  {
   "cell_type": "code",
   "execution_count": 5,
   "metadata": {},
   "outputs": [
    {
     "name": "stdout",
     "output_type": "stream",
     "text": [
      "restored!\n"
     ]
    }
   ],
   "source": [
    "saver = Saver()\n",
    "checkpoint = tf.train.Checkpoint(step=tf.Variable(1), model=model)\n",
    "manager = tf.train.CheckpointManager(checkpoint, \n",
    "                                     directory=config.model.checkpoint_dir,\n",
    "                                     max_to_keep=5,\n",
    "                                     checkpoint_name=\"chkp\")\n",
    "checkpoint.restore(manager.latest_checkpoint)\n",
    "\n",
    "if manager.latest_checkpoint:\n",
    "    saver.old_loss = model.valid_loss.result()\n",
    "    print(\"restored!\")\n",
    "else:\n",
    "    print(\"データがありません。学習後に実行ください。\")"
   ]
  },
  {
   "cell_type": "code",
   "execution_count": 6,
   "metadata": {},
   "outputs": [
    {
     "data": {
      "image/png": "[encoded data removed]",
      "text/plain": [
       "<Figure size 1008x504 with 4 Axes>"
      ]
     },
     "metadata": {
      "needs_background": "light"
     },
     "output_type": "display_data"
    }
   ],
   "source": [
    "import random\n",
    "sample_data =  np.random.choice(valid_data, 4)\n",
    "display_images([data.x.reshape([28,28]) for data in sample_data])"
   ]
  },
  {
   "cell_type": "code",
   "execution_count": null,
   "metadata": {},
   "outputs": [],
   "source": []
  }
 ],
 "metadata": {
  "kernelspec": {
   "display_name": "Python 3",
   "language": "python",
   "name": "python3"
  },
  "language_info": {
   "codemirror_mode": {
    "name": "ipython",
    "version": 3
   },
   "file_extension": ".py",
   "mimetype": "text/x-python",
   "name": "python",
   "nbconvert_exporter": "python",
   "pygments_lexer": "ipython3",
   "version": "3.7.3"
  }
 },
 "nbformat": 4,
 "nbformat_minor": 4
}
